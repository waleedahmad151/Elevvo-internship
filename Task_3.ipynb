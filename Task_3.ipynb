{
 "cells": [
  {
   "cell_type": "markdown",
   "id": "5c5d8ed0",
   "metadata": {},
   "source": [
    "# Customer Segmentation Using RFM Analysis "
   ]
  },
  {
   "cell_type": "markdown",
   "id": "0186d897",
   "metadata": {},
   "source": [
    "## Import Libraries"
   ]
  },
  {
   "cell_type": "code",
   "execution_count": 1,
   "id": "c03a4f2d",
   "metadata": {},
   "outputs": [],
   "source": [
    "import pandas as pd\n",
    "import numpy as np\n",
    "import matplotlib.pyplot as plt\n",
    "import seaborn as sns\n",
    "\n",
    "# Display settings\n",
    "pd.set_option('display.float_format', lambda x: '%.2f' % x)"
   ]
  },
  {
   "cell_type": "code",
   "execution_count": 2,
   "metadata": {},
   "outputs": [
    {
     "data": {
      "text/html": [
       "<div>\n",
       "<style scoped>\n",
       "    .dataframe tbody tr th:only-of-type {\n",
       "        vertical-align: middle;\n",
       "    }\n",
       "\n",
       "    .dataframe tbody tr th {\n",
       "        vertical-align: top;\n",
       "    }\n",
       "\n",
       "    .dataframe thead th {\n",
       "        text-align: right;\n",
       "    }\n",
       "</style>\n",
       "<table border=\"1\" class=\"dataframe\">\n",
       "  <thead>\n",
       "    <tr style=\"text-align: right;\">\n",
       "      <th></th>\n",
       "      <th>InvoiceNo</th>\n",
       "      <th>StockCode</th>\n",
       "      <th>Description</th>\n",
       "      <th>Quantity</th>\n",
       "      <th>InvoiceDate</th>\n",
       "      <th>UnitPrice</th>\n",
       "      <th>CustomerID</th>\n",
       "      <th>Country</th>\n",
       "    </tr>\n",
       "  </thead>\n",
       "  <tbody>\n",
       "    <tr>\n",
       "      <th>0</th>\n",
       "      <td>536365</td>\n",
       "      <td>85123A</td>\n",
       "      <td>WHITE HANGING HEART T-LIGHT HOLDER</td>\n",
       "      <td>6</td>\n",
       "      <td>2010-12-01 08:26:00</td>\n",
       "      <td>2.55</td>\n",
       "      <td>17850.00</td>\n",
       "      <td>United Kingdom</td>\n",
       "    </tr>\n",
       "    <tr>\n",
       "      <th>1</th>\n",
       "      <td>536365</td>\n",
       "      <td>71053</td>\n",
       "      <td>WHITE METAL LANTERN</td>\n",
       "      <td>6</td>\n",
       "      <td>2010-12-01 08:26:00</td>\n",
       "      <td>3.39</td>\n",
       "      <td>17850.00</td>\n",
       "      <td>United Kingdom</td>\n",
       "    </tr>\n",
       "    <tr>\n",
       "      <th>2</th>\n",
       "      <td>536365</td>\n",
       "      <td>84406B</td>\n",
       "      <td>CREAM CUPID HEARTS COAT HANGER</td>\n",
       "      <td>8</td>\n",
       "      <td>2010-12-01 08:26:00</td>\n",
       "      <td>2.75</td>\n",
       "      <td>17850.00</td>\n",
       "      <td>United Kingdom</td>\n",
       "    </tr>\n",
       "    <tr>\n",
       "      <th>3</th>\n",
       "      <td>536365</td>\n",
       "      <td>84029G</td>\n",
       "      <td>KNITTED UNION FLAG HOT WATER BOTTLE</td>\n",
       "      <td>6</td>\n",
       "      <td>2010-12-01 08:26:00</td>\n",
       "      <td>3.39</td>\n",
       "      <td>17850.00</td>\n",
       "      <td>United Kingdom</td>\n",
       "    </tr>\n",
       "    <tr>\n",
       "      <th>4</th>\n",
       "      <td>536365</td>\n",
       "      <td>84029E</td>\n",
       "      <td>RED WOOLLY HOTTIE WHITE HEART.</td>\n",
       "      <td>6</td>\n",
       "      <td>2010-12-01 08:26:00</td>\n",
       "      <td>3.39</td>\n",
       "      <td>17850.00</td>\n",
       "      <td>United Kingdom</td>\n",
       "    </tr>\n",
       "  </tbody>\n",
       "</table>\n",
       "</div>"
      ],
      "text/plain": [
       "  InvoiceNo StockCode                          Description  Quantity  \\\n",
       "0    536365    85123A   WHITE HANGING HEART T-LIGHT HOLDER         6   \n",
       "1    536365     71053                  WHITE METAL LANTERN         6   \n",
       "2    536365    84406B       CREAM CUPID HEARTS COAT HANGER         8   \n",
       "3    536365    84029G  KNITTED UNION FLAG HOT WATER BOTTLE         6   \n",
       "4    536365    84029E       RED WOOLLY HOTTIE WHITE HEART.         6   \n",
       "\n",
       "           InvoiceDate  UnitPrice  CustomerID         Country  \n",
       "0  2010-12-01 08:26:00       2.55    17850.00  United Kingdom  \n",
       "1  2010-12-01 08:26:00       3.39    17850.00  United Kingdom  \n",
       "2  2010-12-01 08:26:00       2.75    17850.00  United Kingdom  \n",
       "3  2010-12-01 08:26:00       3.39    17850.00  United Kingdom  \n",
       "4  2010-12-01 08:26:00       3.39    17850.00  United Kingdom  "
      ]
     },
     "execution_count": 2,
     "metadata": {},
     "output_type": "execute_result"
    }
   ],
   "source": [
    "df = pd.read_csv(r\"D:\\data\\internship\\3\\Task 3\\online_retail.csv\")\n",
    "df.head()"
   ]
  },
  {
   "cell_type": "markdown",
   "id": "766282e3",
   "metadata": {},
   "source": [
    "## Data Cleaning"
   ]
  },
  {
   "cell_type": "code",
   "execution_count": 2,
   "metadata": {},
   "outputs": [],
   "source": [
    "df = df.dropna(subset=[\"CustomerID\"])\n",
    "df = df[~df[\"InvoiceNo\"].astype(str).str.startswith(\"C\")]\n",
    "\n",
    "# Calculate TotalPrice\n",
    "df[\"TotalPrice\"] = df[\"Quantity\"] * df[\"UnitPrice\"]\n",
    "\n",
    "# Convert InvoiceDate to datetime\n",
    "df[\"InvoiceDate\"] = pd.to_datetime(df[\"InvoiceDate\"])"
   ]
  },
  {
   "cell_type": "markdown",
   "id": "0ccc8173",
   "metadata": {},
   "source": [
    "### Creating RFM Table"
   ]
  },
  {
   "cell_type": "code",
   "execution_count": 3,
   "id": "b7487e7f",
   "metadata": {},
   "outputs": [],
   "source": [
    "reference_date = df[\"InvoiceDate\"].max() + pd.Timedelta(days=1)\n",
    "\n",
    "rfm = df.groupby(\"CustomerID\").agg({\n",
    "    \"InvoiceDate\": lambda x: (reference_date - x.max()).days,\n",
    "    \"InvoiceNo\": \"nunique\",\n",
    "    \"TotalPrice\": \"sum\"\n",
    "}).reset_index()\n",
    "\n",
    "rfm.columns = [\"CustomerID\", \"Recency\", \"Frequency\", \"Monetary\"]\n"
   ]
  },
  {
   "cell_type": "markdown",
   "id": "70e01098",
   "metadata": {},
   "source": [
    "### Scoring the RFM"
   ]
  },
  {
   "cell_type": "code",
   "execution_count": 4,
   "id": "80c3de31",
   "metadata": {},
   "outputs": [],
   "source": [
    "# Score each column: 1 (low) to 5 (high)\n",
    "rfm[\"R_Score\"] = pd.qcut(rfm[\"Recency\"], 5, labels=[5, 4, 3, 2, 1]).astype(int)\n",
    "rfm[\"F_Score\"] = pd.qcut(rfm[\"Frequency\"].rank(method=\"first\"), 5, labels=[1, 2, 3, 4, 5]).astype(int)\n",
    "rfm[\"M_Score\"] = pd.qcut(rfm[\"Monetary\"], 5, labels=[1, 2, 3, 4, 5]).astype(int)\n",
    "\n",
    "# Combine RFM Scores\n",
    "rfm[\"RFM_Segment\"] = rfm[\"R_Score\"].astype(str) + rfm[\"F_Score\"].astype(str) + rfm[\"M_Score\"].astype(str)\n",
    "rfm[\"RFM_Score\"] = rfm[[\"R_Score\", \"F_Score\", \"M_Score\"]].sum(axis=1)\n"
   ]
  },
  {
   "cell_type": "markdown",
   "id": "ff3a85e7",
   "metadata": {},
   "source": [
    "### Segment Customers"
   ]
  },
  {
   "cell_type": "code",
   "execution_count": 5,
   "id": "d836b89d",
   "metadata": {},
   "outputs": [],
   "source": [
    "def segment_customer(score):\n",
    "    if score >= 9:\n",
    "        return 'Champions'\n",
    "    elif score >= 7:\n",
    "        return 'Loyal'\n",
    "    elif score >= 5:\n",
    "        return 'Potential'\n",
    "    else:\n",
    "        return 'At Risk'\n",
    "\n",
    "rfm[\"Segment\"] = rfm[\"RFM_Score\"].apply(segment_customer)\n"
   ]
  },
  {
   "cell_type": "markdown",
   "id": "16c8ee3d",
   "metadata": {},
   "source": [
    "### Visualize RFM Segments"
   ]
  },
  {
   "cell_type": "code",
   "execution_count": 6,
   "id": "40765455",
   "metadata": {},
   "outputs": [
    {
     "data": {
      "image/png": "[encoded data removed]",
      "text/plain": [
       "<Figure size 1000x600 with 1 Axes>"
      ]
     },
     "metadata": {},
     "output_type": "display_data"
    }
   ],
   "source": [
    "# Bar plot of customer segments\n",
    "plt.figure(figsize=(10,6))\n",
    "sns.countplot(data=rfm, x=\"Segment\", order=rfm[\"Segment\"].value_counts().index)\n",
    "plt.title(\"Customer Segments by RFM Score\")\n",
    "plt.xlabel(\"Segment\")\n",
    "plt.ylabel(\"Number of Customers\")\n",
    "plt.xticks(rotation=45)\n",
    "plt.tight_layout()\n",
    "plt.show()\n"
   ]
  },
  {
   "cell_type": "markdown",
   "id": "e0cd4d1b",
   "metadata": {},
   "source": [
    "### Marketing Ideas"
   ]
  },
  {
   "cell_type": "markdown",
   "id": "ca411a3c",
   "metadata": {},
   "source": [
    "| Segment       | Strategy                           |\n",
    "| ------------- | ---------------------------------- |\n",
    "| **Champions** | Exclusive offers, loyalty rewards  |\n",
    "| **Loyal**     | Personalized recommendations       |\n",
    "| **Potential** | Targeted promotions or onboarding  |\n",
    "| **At Risk**   | Win-back emails, special discounts |\n"
   ]
  }
 ],
 "metadata": {
  "kernelspec": {
   "display_name": "base",
   "language": "python",
   "name": "python3"
  },
  "language_info": {
   "codemirror_mode": {
    "name": "ipython",
    "version": 3
   },
   "file_extension": ".py",
   "mimetype": "text/x-python",
   "name": "python",
   "nbconvert_exporter": "python",
   "pygments_lexer": "ipython3",
   "version": "3.12.7"
  }
 },
 "nbformat": 4,
 "nbformat_minor": 5
}
